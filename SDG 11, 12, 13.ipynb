{
  "nbformat": 4,
  "nbformat_minor": 0,
  "metadata": {
    "colab": {
      "name": "DataScience[ML model].ipynb",
      "provenance": []
    },
    "kernelspec": {
      "name": "python3",
      "display_name": "Python 3"
    },
    "language_info": {
      "name": "python"
    }
  },
  "cells": [
    {
      "cell_type": "code",
      "execution_count": null,
      "metadata": {
        "colab": {
          "base_uri": "https://localhost:8080/"
        },
        "id": "8eckAnB8th1e",
        "outputId": "01cfef4e-96ec-4d05-bb4c-7ad4f0f4877c"
      },
      "outputs": [
        {
          "output_type": "stream",
          "name": "stdout",
          "text": [
            "[35.95685404 58.44753227 58.24137112 43.97589245 65.08688572 41.06933775\n",
            " 24.73941912 47.59071569 81.04139924 37.8123338  69.3516985  40.79095034]\n",
            "0.6183910983702875\n",
            "    Actual  Predicted\n",
            "4       16  35.956854\n",
            "26      70  58.447532\n",
            "18      66  58.241371\n",
            "22      57  43.975892\n",
            "17      69  65.086886\n",
            "36      39  41.069338\n",
            "15      25  24.739419\n",
            "28      51  47.590716\n",
            "13      62  81.041399\n",
            "34      39  37.812334\n",
            "5       61  69.351699\n",
            "27      23  40.790950\n"
          ]
        }
      ],
      "source": [
        "import sys, os.path\n",
        "#if(os.path.exists('input2.txt')):\n",
        "    #sys.stdin = open(\"input2.txt\",\"r\")\n",
        "    #sys.stdout = open(\"output2.txt\",\"w\")\n",
        "\n",
        "#pandas import\n",
        "import pandas as pd\n",
        "from pandas_profiling import ProfileReport\n",
        "\n",
        "#for viewing whole table\n",
        "pd.set_option('display.max_columns', None)\n",
        "\n",
        "#seaborn import\n",
        "import seaborn as sns\n",
        "sns.set(rc={'figure.figsize':(11.7,8.27)})\n",
        "\n",
        "#numpy import\n",
        "import numpy as np\n",
        "\n",
        "#matplotlib an tkinter imports for GUI backend and scipy\n",
        "%matplotlib inline\n",
        "import matplotlib\n",
        "from matplotlib.figure import Figure\n",
        "import matplotlib.pyplot as plt\n",
        "from matplotlib import pylab as pl\n",
        "import tkinter as tk\n",
        "import scipy\n",
        "from scipy import stats\n",
        "from scipy.stats import norm\n",
        "from scipy.stats import shapiro\n",
        "from scipy.stats import ttest_1samp\n",
        "\n",
        "#model\n",
        "from sklearn.linear_model import LinearRegression\n",
        "from sklearn.model_selection import train_test_split\n",
        "from sklearn.metrics import mean_squared_error\n",
        "\n",
        "\"\"\"MACHINE LEARNING MODEL\"\"\"\n",
        "df = pd.read_csv(\"Composite Score.csv\")\n",
        "df13 = pd.read_csv(\"SDG 13.csv\")\n",
        "new_df13=df13.interpolate()\n",
        "train=new_df13.drop(['SNO','Category','States/UTs'], axis=1)\n",
        "test=df['SDG 13']\n",
        "X_train, X_test, y_train, y_test = train_test_split(train, test, test_size=0.3, random_state=3)\n",
        "regr=LinearRegression()\n",
        "regr.fit(X_train, y_train)\n",
        "pred=regr.predict(X_test)\n",
        "print(pred)\n",
        "print(regr.score(X_test, y_test))\n",
        "compare = pd.DataFrame({'Actual': y_test, 'Predicted': pred})\n",
        "print(compare)"
      ]
    },
    {
      "cell_type": "code",
      "source": [
        "print(\"\\nAccuracy of model for SDG 13 :\")\n",
        "print(regr.score(X_test, y_test))"
      ],
      "metadata": {
        "colab": {
          "base_uri": "https://localhost:8080/"
        },
        "id": "njWvoPx_oStd",
        "outputId": "2cda0aad-c9a3-431f-ef87-9a7ccc02b166"
      },
      "execution_count": null,
      "outputs": [
        {
          "output_type": "stream",
          "name": "stdout",
          "text": [
            "\n",
            "Accuracy of model for SDG 13 :\n",
            "0.6183910983702875\n"
          ]
        }
      ]
    },
    {
      "cell_type": "code",
      "source": [
        "x_train = X_train.values[:,0].reshape(-1, 1)\n",
        "x_test = X_test.values[:,0].reshape(-1, 1)\n",
        "simple_reg = LinearRegression()\n",
        "simple_reg.fit(x_train, y_train)\n",
        "y_pred = simple_reg.predict(x_test)\n",
        "plt.scatter(x_test, y_test,  color='black')\n",
        "plt.plot(x_test, y_pred, color='blue', linewidth=3)"
      ],
      "metadata": {
        "colab": {
          "base_uri": "https://localhost:8080/",
          "height": 285
        },
        "id": "3QGWvMNHQzgq",
        "outputId": "494cdd0f-cd02-4c32-a5ad-9e2354ba44ce"
      },
      "execution_count": null,
      "outputs": [
        {
          "output_type": "execute_result",
          "data": {
            "text/plain": [
              "[<matplotlib.lines.Line2D at 0x7f5a98ee4e10>]"
            ]
          },
          "metadata": {},
          "execution_count": 31
        },
        {
          "output_type": "display_data",
          "data": {
            "text/plain": [
              "<Figure size 432x288 with 1 Axes>"
            ],
            "image/png": "[encoded data removed]"
          },
          "metadata": {
            "needs_background": "light"
          }
        }
      ]
    },
    {
      "cell_type": "code",
      "source": [
        "regr_model= regr.fit(X_train, y_train)\n",
        "regr_predictions= regr.predict(X_test)\n",
        "plt.scatter(y_test, regr_predictions)\n",
        "plt.title(\"Plot of Predicted value vs Actual Value\")\n",
        "plt.xlabel(\"Actual Value\")\n",
        "plt.ylabel(\"Predicted value\")\n",
        "z = np.polyfit(y_test, regr_predictions, 1)\n",
        "p = np.poly1d(z)\n",
        "plt.plot(y_test,p(y_test),\"r--\")\n",
        "plt.show()\n",
        "plt.close()"
      ],
      "metadata": {
        "colab": {
          "base_uri": "https://localhost:8080/",
          "height": 301
        },
        "id": "UBu0lnQbOrkM",
        "outputId": "be2a0a52-e324-46c2-d22e-ff703e107d54"
      },
      "execution_count": null,
      "outputs": [
        {
          "output_type": "display_data",
          "data": {
            "text/plain": [
              "<Figure size 432x288 with 1 Axes>"
            ],
            "image/png": "[encoded data removed]"
          },
          "metadata": {
            "needs_background": "light"
          }
        }
      ]
    },
    {
      "cell_type": "code",
      "source": [
        "corr = new_df13.corr()\n",
        "corr.style.background_gradient(cmap='coolwarm')"
      ],
      "metadata": {
        "colab": {
          "base_uri": "https://localhost:8080/",
          "height": 550
        },
        "id": "R6ArBWgBO19l",
        "outputId": "9f2ffbbd-df35-4bc1-fd7e-322e6000317e"
      },
      "execution_count": null,
      "outputs": [
        {
          "output_type": "execute_result",
          "data": {
            "text/plain": [
              "<pandas.io.formats.style.Styler at 0x7f5a98c23710>"
            ],
            "text/html": [
              "<style type=\"text/css\">\n",
              "#T_118d6_row0_col0, #T_118d6_row1_col1, #T_118d6_row2_col2, #T_118d6_row3_col3, #T_118d6_row4_col4, #T_118d6_row5_col5 {\n",
              "  background-color: #b40426;\n",
              "  color: #f1f1f1;\n",
              "}\n",
              "#T_118d6_row0_col1 {\n",
              "  background-color: #5572df;\n",
              "  color: #f1f1f1;\n",
              "}\n",
              "#T_118d6_row0_col2, #T_118d6_row3_col5 {\n",
              "  background-color: #4a63d3;\n",
              "  color: #f1f1f1;\n",
              "}\n",
              "#T_118d6_row0_col3 {\n",
              "  background-color: #9fbfff;\n",
              "  color: #000000;\n",
              "}\n",
              "#T_118d6_row0_col4 {\n",
              "  background-color: #aec9fc;\n",
              "  color: #000000;\n",
              "}\n",
              "#T_118d6_row0_col5 {\n",
              "  background-color: #b2ccfb;\n",
              "  color: #000000;\n",
              "}\n",
              "#T_118d6_row1_col0, #T_118d6_row1_col5, #T_118d6_row2_col4, #T_118d6_row3_col2, #T_118d6_row4_col2, #T_118d6_row5_col1, #T_118d6_row5_col3 {\n",
              "  background-color: #3b4cc0;\n",
              "  color: #f1f1f1;\n",
              "}\n",
              "#T_118d6_row1_col2 {\n",
              "  background-color: #779af7;\n",
              "  color: #f1f1f1;\n",
              "}\n",
              "#T_118d6_row1_col3 {\n",
              "  background-color: #edd2c3;\n",
              "  color: #000000;\n",
              "}\n",
              "#T_118d6_row1_col4 {\n",
              "  background-color: #9abbff;\n",
              "  color: #000000;\n",
              "}\n",
              "#T_118d6_row2_col0 {\n",
              "  background-color: #6180e9;\n",
              "  color: #f1f1f1;\n",
              "}\n",
              "#T_118d6_row2_col1 {\n",
              "  background-color: #a3c2fe;\n",
              "  color: #000000;\n",
              "}\n",
              "#T_118d6_row2_col3 {\n",
              "  background-color: #5d7ce6;\n",
              "  color: #f1f1f1;\n",
              "}\n",
              "#T_118d6_row2_col5 {\n",
              "  background-color: #c1d4f4;\n",
              "  color: #000000;\n",
              "}\n",
              "#T_118d6_row3_col0 {\n",
              "  background-color: #94b6ff;\n",
              "  color: #000000;\n",
              "}\n",
              "#T_118d6_row3_col1 {\n",
              "  background-color: #f1cdba;\n",
              "  color: #000000;\n",
              "}\n",
              "#T_118d6_row3_col4 {\n",
              "  background-color: #d9dce1;\n",
              "  color: #000000;\n",
              "}\n",
              "#T_118d6_row4_col0 {\n",
              "  background-color: #bed2f6;\n",
              "  color: #000000;\n",
              "}\n",
              "#T_118d6_row4_col1 {\n",
              "  background-color: #bfd3f6;\n",
              "  color: #000000;\n",
              "}\n",
              "#T_118d6_row4_col3 {\n",
              "  background-color: #e7d7ce;\n",
              "  color: #000000;\n",
              "}\n",
              "#T_118d6_row4_col5 {\n",
              "  background-color: #8db0fe;\n",
              "  color: #000000;\n",
              "}\n",
              "#T_118d6_row5_col0 {\n",
              "  background-color: #9dbdff;\n",
              "  color: #000000;\n",
              "}\n",
              "#T_118d6_row5_col2 {\n",
              "  background-color: #9bbcff;\n",
              "  color: #000000;\n",
              "}\n",
              "#T_118d6_row5_col4 {\n",
              "  background-color: #5e7de7;\n",
              "  color: #f1f1f1;\n",
              "}\n",
              "</style>\n",
              "<table id=\"T_118d6_\" class=\"dataframe\">\n",
              "  <thead>\n",
              "    <tr>\n",
              "      <th class=\"blank level0\" >&nbsp;</th>\n",
              "      <th class=\"col_heading level0 col0\" >SNO</th>\n",
              "      <th class=\"col_heading level0 col1\" >Number of human lives lost per 1 crore population due to extreme weather events</th>\n",
              "      <th class=\"col_heading level0 col2\" >Disaster preparedness score as per Disaster Resilience Index</th>\n",
              "      <th class=\"col_heading level0 col3\" >Percentage of renewable energy out of total installed generating capacity (including allocated shares)</th>\n",
              "      <th class=\"col_heading level0 col4\" >CO2 saved from LED bulbs per 1,000 population (Tonnes)</th>\n",
              "      <th class=\"col_heading level0 col5\" >Disability Adjusted Life Years (DALY) rate  attributable to air pollution (per 1,00,000 population)</th>\n",
              "    </tr>\n",
              "  </thead>\n",
              "  <tbody>\n",
              "    <tr>\n",
              "      <th id=\"T_118d6_level0_row0\" class=\"row_heading level0 row0\" >SNO</th>\n",
              "      <td id=\"T_118d6_row0_col0\" class=\"data row0 col0\" >1.000000</td>\n",
              "      <td id=\"T_118d6_row0_col1\" class=\"data row0 col1\" >-0.236478</td>\n",
              "      <td id=\"T_118d6_row0_col2\" class=\"data row0 col2\" >-0.084599</td>\n",
              "      <td id=\"T_118d6_row0_col3\" class=\"data row0 col3\" >0.100524</td>\n",
              "      <td id=\"T_118d6_row0_col4\" class=\"data row0 col4\" >0.247380</td>\n",
              "      <td id=\"T_118d6_row0_col5\" class=\"data row0 col5\" >0.126197</td>\n",
              "    </tr>\n",
              "    <tr>\n",
              "      <th id=\"T_118d6_level0_row1\" class=\"row_heading level0 row1\" >Number of human lives lost per 1 crore population due to extreme weather events</th>\n",
              "      <td id=\"T_118d6_row1_col0\" class=\"data row1 col0\" >-0.236478</td>\n",
              "      <td id=\"T_118d6_row1_col1\" class=\"data row1 col1\" >1.000000</td>\n",
              "      <td id=\"T_118d6_row1_col2\" class=\"data row1 col2\" >0.068849</td>\n",
              "      <td id=\"T_118d6_row1_col3\" class=\"data row1 col3\" >0.444895</td>\n",
              "      <td id=\"T_118d6_row1_col4\" class=\"data row1 col4\" >0.180144</td>\n",
              "      <td id=\"T_118d6_row1_col5\" class=\"data row1 col5\" >-0.357392</td>\n",
              "    </tr>\n",
              "    <tr>\n",
              "      <th id=\"T_118d6_level0_row2\" class=\"row_heading level0 row2\" >Disaster preparedness score as per Disaster Resilience Index</th>\n",
              "      <td id=\"T_118d6_row2_col0\" class=\"data row2 col0\" >-0.084599</td>\n",
              "      <td id=\"T_118d6_row2_col1\" class=\"data row2 col1\" >0.068849</td>\n",
              "      <td id=\"T_118d6_row2_col2\" class=\"data row2 col2\" >1.000000</td>\n",
              "      <td id=\"T_118d6_row2_col3\" class=\"data row2 col3\" >-0.143250</td>\n",
              "      <td id=\"T_118d6_row2_col4\" class=\"data row2 col4\" >-0.147209</td>\n",
              "      <td id=\"T_118d6_row2_col5\" class=\"data row2 col5\" >0.188815</td>\n",
              "    </tr>\n",
              "    <tr>\n",
              "      <th id=\"T_118d6_level0_row3\" class=\"row_heading level0 row3\" >Percentage of renewable energy out of total installed generating capacity (including allocated shares)</th>\n",
              "      <td id=\"T_118d6_row3_col0\" class=\"data row3 col0\" >0.100524</td>\n",
              "      <td id=\"T_118d6_row3_col1\" class=\"data row3 col1\" >0.444895</td>\n",
              "      <td id=\"T_118d6_row3_col2\" class=\"data row3 col2\" >-0.143250</td>\n",
              "      <td id=\"T_118d6_row3_col3\" class=\"data row3 col3\" >1.000000</td>\n",
              "      <td id=\"T_118d6_row3_col4\" class=\"data row3 col4\" >0.411237</td>\n",
              "      <td id=\"T_118d6_row3_col5\" class=\"data row3 col5\" >-0.288011</td>\n",
              "    </tr>\n",
              "    <tr>\n",
              "      <th id=\"T_118d6_level0_row4\" class=\"row_heading level0 row4\" >CO2 saved from LED bulbs per 1,000 population (Tonnes)</th>\n",
              "      <td id=\"T_118d6_row4_col0\" class=\"data row4 col0\" >0.247380</td>\n",
              "      <td id=\"T_118d6_row4_col1\" class=\"data row4 col1\" >0.180144</td>\n",
              "      <td id=\"T_118d6_row4_col2\" class=\"data row4 col2\" >-0.147209</td>\n",
              "      <td id=\"T_118d6_row4_col3\" class=\"data row4 col3\" >0.411237</td>\n",
              "      <td id=\"T_118d6_row4_col4\" class=\"data row4 col4\" >1.000000</td>\n",
              "      <td id=\"T_118d6_row4_col5\" class=\"data row4 col5\" >-0.016506</td>\n",
              "    </tr>\n",
              "    <tr>\n",
              "      <th id=\"T_118d6_level0_row5\" class=\"row_heading level0 row5\" >Disability Adjusted Life Years (DALY) rate  attributable to air pollution (per 1,00,000 population)</th>\n",
              "      <td id=\"T_118d6_row5_col0\" class=\"data row5 col0\" >0.126197</td>\n",
              "      <td id=\"T_118d6_row5_col1\" class=\"data row5 col1\" >-0.357392</td>\n",
              "      <td id=\"T_118d6_row5_col2\" class=\"data row5 col2\" >0.188815</td>\n",
              "      <td id=\"T_118d6_row5_col3\" class=\"data row5 col3\" >-0.288011</td>\n",
              "      <td id=\"T_118d6_row5_col4\" class=\"data row5 col4\" >-0.016506</td>\n",
              "      <td id=\"T_118d6_row5_col5\" class=\"data row5 col5\" >1.000000</td>\n",
              "    </tr>\n",
              "  </tbody>\n",
              "</table>\n"
            ]
          },
          "metadata": {},
          "execution_count": 33
        }
      ]
    },
    {
      "cell_type": "code",
      "source": [
        "df12 = pd.read_csv(\"SDG 12.csv\")\n",
        "new_df12=df12.interpolate()\n",
        "train=new_df12.drop(['SNO','Category','States/UTs'], axis=1)\n",
        "test=df['SDG 12']\n",
        "X_train, X_test, y_train, y_test = train_test_split(train, test, test_size=0.3, random_state=3)\n",
        "regr=LinearRegression()\n",
        "regr.fit(X_train, y_train)\n",
        "pred=regr.predict(X_test)\n",
        "print(pred)\n",
        "print(regr.score(X_test, y_test))\n",
        "compare = pd.DataFrame({'Actual': y_test, 'Predicted': pred})\n",
        "print(compare)"
      ],
      "metadata": {
        "colab": {
          "base_uri": "https://localhost:8080/"
        },
        "id": "SJ_KRLOIQZnL",
        "outputId": "099a76bb-1e87-42fa-86d5-9d66f56b3449"
      },
      "execution_count": null,
      "outputs": [
        {
          "output_type": "stream",
          "name": "stdout",
          "text": [
            "[62.06982855 71.02047793 96.65189535 76.46454287 64.34464927 78.15487227\n",
            " 60.73523675 78.96166094 76.56135971 82.71182686 70.69137311 72.51837957]\n",
            "0.7431886123455201\n",
            "    Actual  Predicted\n",
            "4       59  62.069829\n",
            "26      73  71.020478\n",
            "18      95  96.651895\n",
            "22      89  76.464543\n",
            "17      65  64.344649\n",
            "36      79  78.154872\n",
            "15      55  60.735237\n",
            "28      71  78.961661\n",
            "13      77  76.561360\n",
            "34      79  82.711827\n",
            "5       78  70.691373\n",
            "27      66  72.518380\n"
          ]
        }
      ]
    },
    {
      "cell_type": "code",
      "source": [
        "print(\"\\nAccuracy of model for SDG 12 :\")\n",
        "print(regr.score(X_test, y_test))"
      ],
      "metadata": {
        "colab": {
          "base_uri": "https://localhost:8080/"
        },
        "id": "t9EymjKBn8fD",
        "outputId": "ba41e6f2-0c2f-444d-b7b6-08e5ab8b49c9"
      },
      "execution_count": null,
      "outputs": [
        {
          "output_type": "stream",
          "name": "stdout",
          "text": [
            "\n",
            "Accuracy of model for SDG 12 :\n",
            "0.7431886123455201\n"
          ]
        }
      ]
    },
    {
      "cell_type": "code",
      "source": [
        "x_train = X_train.values[:,0].reshape(-1, 1)\n",
        "x_test = X_test.values[:,0].reshape(-1, 1)\n",
        "simple_reg = LinearRegression()\n",
        "simple_reg.fit(x_train, y_train)\n",
        "y_pred = simple_reg.predict(x_test)\n",
        "plt.scatter(x_test, y_test,  color='black')\n",
        "plt.plot(x_test, y_pred, color='blue', linewidth=3)"
      ],
      "metadata": {
        "colab": {
          "base_uri": "https://localhost:8080/",
          "height": 285
        },
        "id": "24ZXu08MRF-5",
        "outputId": "6d53fa0b-b714-4cb4-e38a-bd7d511e0125"
      },
      "execution_count": null,
      "outputs": [
        {
          "output_type": "execute_result",
          "data": {
            "text/plain": [
              "[<matplotlib.lines.Line2D at 0x7f5a989e58d0>]"
            ]
          },
          "metadata": {},
          "execution_count": 36
        },
        {
          "output_type": "display_data",
          "data": {
            "text/plain": [
              "<Figure size 432x288 with 1 Axes>"
            ],
            "image/png": "[encoded data removed]"
          },
          "metadata": {
            "needs_background": "light"
          }
        }
      ]
    },
    {
      "cell_type": "code",
      "source": [
        "regr_model= regr.fit(X_train, y_train)\n",
        "regr_predictions= regr.predict(X_test)\n",
        "plt.scatter(y_test, regr_predictions)\n",
        "plt.title(\"Plot of Predicted value vs Actual Value\")\n",
        "plt.xlabel(\"Actual Value\")\n",
        "plt.ylabel(\"Predicted value\")\n",
        "z = np.polyfit(y_test, regr_predictions, 1)\n",
        "p = np.poly1d(z)\n",
        "plt.plot(y_test,p(y_test),\"r--\")\n",
        "plt.show()\n",
        "plt.close()"
      ],
      "metadata": {
        "colab": {
          "base_uri": "https://localhost:8080/",
          "height": 301
        },
        "id": "6Iujcmi9RKmA",
        "outputId": "a03b4122-e6c9-463e-df3a-de11a764da25"
      },
      "execution_count": null,
      "outputs": [
        {
          "output_type": "display_data",
          "data": {
            "text/plain": [
              "<Figure size 432x288 with 1 Axes>"
            ],
            "image/png": "[encoded data removed]"
          },
          "metadata": {
            "needs_background": "light"
          }
        }
      ]
    },
    {
      "cell_type": "code",
      "source": [
        "corr = new_df12.corr()\n",
        "corr.style.background_gradient(cmap='coolwarm')"
      ],
      "metadata": {
        "colab": {
          "base_uri": "https://localhost:8080/",
          "height": 821
        },
        "id": "GHTRL6VWRQjU",
        "outputId": "4acf0ed2-34c7-40f5-f34e-6ae5eb682bc8"
      },
      "execution_count": null,
      "outputs": [
        {
          "output_type": "execute_result",
          "data": {
            "text/plain": [
              "<pandas.io.formats.style.Styler at 0x7f5a98ba0b50>"
            ],
            "text/html": [
              "<style type=\"text/css\">\n",
              "#T_ca91f_row0_col0, #T_ca91f_row1_col1, #T_ca91f_row2_col2, #T_ca91f_row3_col3, #T_ca91f_row4_col4, #T_ca91f_row5_col5, #T_ca91f_row6_col6, #T_ca91f_row7_col7 {\n",
              "  background-color: #b40426;\n",
              "  color: #f1f1f1;\n",
              "}\n",
              "#T_ca91f_row0_col1, #T_ca91f_row6_col0 {\n",
              "  background-color: #bed2f6;\n",
              "  color: #000000;\n",
              "}\n",
              "#T_ca91f_row0_col2, #T_ca91f_row0_col3, #T_ca91f_row3_col0, #T_ca91f_row4_col1, #T_ca91f_row4_col5, #T_ca91f_row4_col6, #T_ca91f_row4_col7, #T_ca91f_row7_col4 {\n",
              "  background-color: #3b4cc0;\n",
              "  color: #f1f1f1;\n",
              "}\n",
              "#T_ca91f_row0_col4 {\n",
              "  background-color: #cad8ef;\n",
              "  color: #000000;\n",
              "}\n",
              "#T_ca91f_row0_col5 {\n",
              "  background-color: #6788ee;\n",
              "  color: #f1f1f1;\n",
              "}\n",
              "#T_ca91f_row0_col6, #T_ca91f_row1_col7, #T_ca91f_row5_col6 {\n",
              "  background-color: #7295f4;\n",
              "  color: #f1f1f1;\n",
              "}\n",
              "#T_ca91f_row0_col7, #T_ca91f_row3_col7, #T_ca91f_row7_col1, #T_ca91f_row7_col6 {\n",
              "  background-color: #6c8ff1;\n",
              "  color: #f1f1f1;\n",
              "}\n",
              "#T_ca91f_row1_col0 {\n",
              "  background-color: #c7d7f0;\n",
              "  color: #000000;\n",
              "}\n",
              "#T_ca91f_row1_col2, #T_ca91f_row1_col6, #T_ca91f_row7_col0, #T_ca91f_row7_col3 {\n",
              "  background-color: #7597f6;\n",
              "  color: #f1f1f1;\n",
              "}\n",
              "#T_ca91f_row1_col3 {\n",
              "  background-color: #a5c3fe;\n",
              "  color: #000000;\n",
              "}\n",
              "#T_ca91f_row1_col4 {\n",
              "  background-color: #4055c8;\n",
              "  color: #f1f1f1;\n",
              "}\n",
              "#T_ca91f_row1_col5 {\n",
              "  background-color: #b3cdfb;\n",
              "  color: #000000;\n",
              "}\n",
              "#T_ca91f_row2_col0 {\n",
              "  background-color: #799cf8;\n",
              "  color: #f1f1f1;\n",
              "}\n",
              "#T_ca91f_row2_col1 {\n",
              "  background-color: #a1c0ff;\n",
              "  color: #000000;\n",
              "}\n",
              "#T_ca91f_row2_col3 {\n",
              "  background-color: #b7cff9;\n",
              "  color: #000000;\n",
              "}\n",
              "#T_ca91f_row2_col4, #T_ca91f_row5_col0 {\n",
              "  background-color: #8db0fe;\n",
              "  color: #000000;\n",
              "}\n",
              "#T_ca91f_row2_col5, #T_ca91f_row3_col6 {\n",
              "  background-color: #5f7fe8;\n",
              "  color: #f1f1f1;\n",
              "}\n",
              "#T_ca91f_row2_col6, #T_ca91f_row4_col3, #T_ca91f_row5_col2 {\n",
              "  background-color: #485fd1;\n",
              "  color: #f1f1f1;\n",
              "}\n",
              "#T_ca91f_row2_col7 {\n",
              "  background-color: #86a9fc;\n",
              "  color: #f1f1f1;\n",
              "}\n",
              "#T_ca91f_row3_col1 {\n",
              "  background-color: #98b9ff;\n",
              "  color: #000000;\n",
              "}\n",
              "#T_ca91f_row3_col2 {\n",
              "  background-color: #82a6fb;\n",
              "  color: #f1f1f1;\n",
              "}\n",
              "#T_ca91f_row3_col4 {\n",
              "  background-color: #3f53c6;\n",
              "  color: #f1f1f1;\n",
              "}\n",
              "#T_ca91f_row3_col5, #T_ca91f_row6_col7 {\n",
              "  background-color: #b2ccfb;\n",
              "  color: #000000;\n",
              "}\n",
              "#T_ca91f_row4_col0 {\n",
              "  background-color: #cedaeb;\n",
              "  color: #000000;\n",
              "}\n",
              "#T_ca91f_row4_col2, #T_ca91f_row5_col4 {\n",
              "  background-color: #5977e3;\n",
              "  color: #f1f1f1;\n",
              "}\n",
              "#T_ca91f_row5_col1 {\n",
              "  background-color: #c4d5f3;\n",
              "  color: #000000;\n",
              "}\n",
              "#T_ca91f_row5_col3 {\n",
              "  background-color: #cbd8ee;\n",
              "  color: #000000;\n",
              "}\n",
              "#T_ca91f_row5_col7 {\n",
              "  background-color: #688aef;\n",
              "  color: #f1f1f1;\n",
              "}\n",
              "#T_ca91f_row6_col1 {\n",
              "  background-color: #b5cdfa;\n",
              "  color: #000000;\n",
              "}\n",
              "#T_ca91f_row6_col2 {\n",
              "  background-color: #6282ea;\n",
              "  color: #f1f1f1;\n",
              "}\n",
              "#T_ca91f_row6_col3 {\n",
              "  background-color: #afcafc;\n",
              "  color: #000000;\n",
              "}\n",
              "#T_ca91f_row6_col4 {\n",
              "  background-color: #89acfd;\n",
              "  color: #000000;\n",
              "}\n",
              "#T_ca91f_row6_col5 {\n",
              "  background-color: #9fbfff;\n",
              "  color: #000000;\n",
              "}\n",
              "#T_ca91f_row7_col2 {\n",
              "  background-color: #516ddb;\n",
              "  color: #f1f1f1;\n",
              "}\n",
              "#T_ca91f_row7_col5 {\n",
              "  background-color: #4a63d3;\n",
              "  color: #f1f1f1;\n",
              "}\n",
              "</style>\n",
              "<table id=\"T_ca91f_\" class=\"dataframe\">\n",
              "  <thead>\n",
              "    <tr>\n",
              "      <th class=\"blank level0\" >&nbsp;</th>\n",
              "      <th class=\"col_heading level0 col0\" >SNO</th>\n",
              "      <th class=\"col_heading level0 col1\" >Per capita fossil fuel consumption (in kg.)</th>\n",
              "      <th class=\"col_heading level0 col2\" >Percentage use of nitrogenous fertilizer out of total N,P,K, (Nitrogen, Phosphorous, Potassium)</th>\n",
              "      <th class=\"col_heading level0 col3\" >Hazardous waste generated per 1,000 population (Metric tonnes/Annum)</th>\n",
              "      <th class=\"col_heading level0 col4\" >Quantity of hazardous waste recycled/utilized to total hazardous waste generated (%)</th>\n",
              "      <th class=\"col_heading level0 col5\" >Plastic waste generated per 1,000 population (Tonnes/Annum)</th>\n",
              "      <th class=\"col_heading level0 col6\" >Percentage of BMW treated to total quantity of BMW generated</th>\n",
              "      <th class=\"col_heading level0 col7\" >Installed capacity of grid interactive bio power per 10 lakh population (MW)</th>\n",
              "    </tr>\n",
              "  </thead>\n",
              "  <tbody>\n",
              "    <tr>\n",
              "      <th id=\"T_ca91f_level0_row0\" class=\"row_heading level0 row0\" >SNO</th>\n",
              "      <td id=\"T_ca91f_row0_col0\" class=\"data row0 col0\" >1.000000</td>\n",
              "      <td id=\"T_ca91f_row0_col1\" class=\"data row0 col1\" >0.294976</td>\n",
              "      <td id=\"T_ca91f_row0_col2\" class=\"data row0 col2\" >0.012467</td>\n",
              "      <td id=\"T_ca91f_row0_col3\" class=\"data row0 col3\" >-0.224677</td>\n",
              "      <td id=\"T_ca91f_row0_col4\" class=\"data row0 col4\" >0.324530</td>\n",
              "      <td id=\"T_ca91f_row0_col5\" class=\"data row0 col5\" >0.081943</td>\n",
              "      <td id=\"T_ca91f_row0_col6\" class=\"data row0 col6\" >0.253774</td>\n",
              "      <td id=\"T_ca91f_row0_col7\" class=\"data row0 col7\" >0.000021</td>\n",
              "    </tr>\n",
              "    <tr>\n",
              "      <th id=\"T_ca91f_level0_row1\" class=\"row_heading level0 row1\" >Per capita fossil fuel consumption (in kg.)</th>\n",
              "      <td id=\"T_ca91f_row1_col0\" class=\"data row1 col0\" >0.294976</td>\n",
              "      <td id=\"T_ca91f_row1_col1\" class=\"data row1 col1\" >1.000000</td>\n",
              "      <td id=\"T_ca91f_row1_col2\" class=\"data row1 col2\" >0.193160</td>\n",
              "      <td id=\"T_ca91f_row1_col3\" class=\"data row1 col3\" >0.163739</td>\n",
              "      <td id=\"T_ca91f_row1_col4\" class=\"data row1 col4\" >-0.163630</td>\n",
              "      <td id=\"T_ca91f_row1_col5\" class=\"data row1 col5\" >0.317263</td>\n",
              "      <td id=\"T_ca91f_row1_col6\" class=\"data row1 col6\" >0.260780</td>\n",
              "      <td id=\"T_ca91f_row1_col7\" class=\"data row1 col7\" >0.018539</td>\n",
              "    </tr>\n",
              "    <tr>\n",
              "      <th id=\"T_ca91f_level0_row2\" class=\"row_heading level0 row2\" >Percentage use of nitrogenous fertilizer out of total N,P,K, (Nitrogen, Phosphorous, Potassium)</th>\n",
              "      <td id=\"T_ca91f_row2_col0\" class=\"data row2 col0\" >0.012467</td>\n",
              "      <td id=\"T_ca91f_row2_col1\" class=\"data row2 col1\" >0.193160</td>\n",
              "      <td id=\"T_ca91f_row2_col2\" class=\"data row2 col2\" >1.000000</td>\n",
              "      <td id=\"T_ca91f_row2_col3\" class=\"data row2 col3\" >0.230792</td>\n",
              "      <td id=\"T_ca91f_row2_col4\" class=\"data row2 col4\" >0.110502</td>\n",
              "      <td id=\"T_ca91f_row2_col5\" class=\"data row2 col5\" >0.056036</td>\n",
              "      <td id=\"T_ca91f_row2_col6\" class=\"data row2 col6\" >0.136373</td>\n",
              "      <td id=\"T_ca91f_row2_col7\" class=\"data row2 col7\" >0.087611</td>\n",
              "    </tr>\n",
              "    <tr>\n",
              "      <th id=\"T_ca91f_level0_row3\" class=\"row_heading level0 row3\" >Hazardous waste generated per 1,000 population (Metric tonnes/Annum)</th>\n",
              "      <td id=\"T_ca91f_row3_col0\" class=\"data row3 col0\" >-0.224677</td>\n",
              "      <td id=\"T_ca91f_row3_col1\" class=\"data row3 col1\" >0.163739</td>\n",
              "      <td id=\"T_ca91f_row3_col2\" class=\"data row3 col2\" >0.230792</td>\n",
              "      <td id=\"T_ca91f_row3_col3\" class=\"data row3 col3\" >1.000000</td>\n",
              "      <td id=\"T_ca91f_row3_col4\" class=\"data row3 col4\" >-0.168580</td>\n",
              "      <td id=\"T_ca91f_row3_col5\" class=\"data row3 col5\" >0.309703</td>\n",
              "      <td id=\"T_ca91f_row3_col6\" class=\"data row3 col6\" >0.203768</td>\n",
              "      <td id=\"T_ca91f_row3_col7\" class=\"data row3 col7\" >-0.003300</td>\n",
              "    </tr>\n",
              "    <tr>\n",
              "      <th id=\"T_ca91f_level0_row4\" class=\"row_heading level0 row4\" >Quantity of hazardous waste recycled/utilized to total hazardous waste generated (%)</th>\n",
              "      <td id=\"T_ca91f_row4_col0\" class=\"data row4 col0\" >0.324530</td>\n",
              "      <td id=\"T_ca91f_row4_col1\" class=\"data row4 col1\" >-0.163630</td>\n",
              "      <td id=\"T_ca91f_row4_col2\" class=\"data row4 col2\" >0.110502</td>\n",
              "      <td id=\"T_ca91f_row4_col3\" class=\"data row4 col3\" >-0.168580</td>\n",
              "      <td id=\"T_ca91f_row4_col4\" class=\"data row4 col4\" >1.000000</td>\n",
              "      <td id=\"T_ca91f_row4_col5\" class=\"data row4 col5\" >-0.071352</td>\n",
              "      <td id=\"T_ca91f_row4_col6\" class=\"data row4 col6\" >0.095505</td>\n",
              "      <td id=\"T_ca91f_row4_col7\" class=\"data row4 col7\" >-0.189454</td>\n",
              "    </tr>\n",
              "    <tr>\n",
              "      <th id=\"T_ca91f_level0_row5\" class=\"row_heading level0 row5\" >Plastic waste generated per 1,000 population (Tonnes/Annum)</th>\n",
              "      <td id=\"T_ca91f_row5_col0\" class=\"data row5 col0\" >0.081943</td>\n",
              "      <td id=\"T_ca91f_row5_col1\" class=\"data row5 col1\" >0.317263</td>\n",
              "      <td id=\"T_ca91f_row5_col2\" class=\"data row5 col2\" >0.056036</td>\n",
              "      <td id=\"T_ca91f_row5_col3\" class=\"data row5 col3\" >0.309703</td>\n",
              "      <td id=\"T_ca91f_row5_col4\" class=\"data row5 col4\" >-0.071352</td>\n",
              "      <td id=\"T_ca91f_row5_col5\" class=\"data row5 col5\" >1.000000</td>\n",
              "      <td id=\"T_ca91f_row5_col6\" class=\"data row5 col6\" >0.253480</td>\n",
              "      <td id=\"T_ca91f_row5_col7\" class=\"data row5 col7\" >-0.013480</td>\n",
              "    </tr>\n",
              "    <tr>\n",
              "      <th id=\"T_ca91f_level0_row6\" class=\"row_heading level0 row6\" >Percentage of BMW treated to total quantity of BMW generated</th>\n",
              "      <td id=\"T_ca91f_row6_col0\" class=\"data row6 col0\" >0.253774</td>\n",
              "      <td id=\"T_ca91f_row6_col1\" class=\"data row6 col1\" >0.260780</td>\n",
              "      <td id=\"T_ca91f_row6_col2\" class=\"data row6 col2\" >0.136373</td>\n",
              "      <td id=\"T_ca91f_row6_col3\" class=\"data row6 col3\" >0.203768</td>\n",
              "      <td id=\"T_ca91f_row6_col4\" class=\"data row6 col4\" >0.095505</td>\n",
              "      <td id=\"T_ca91f_row6_col5\" class=\"data row6 col5\" >0.253480</td>\n",
              "      <td id=\"T_ca91f_row6_col6\" class=\"data row6 col6\" >1.000000</td>\n",
              "      <td id=\"T_ca91f_row6_col7\" class=\"data row6 col7\" >0.237458</td>\n",
              "    </tr>\n",
              "    <tr>\n",
              "      <th id=\"T_ca91f_level0_row7\" class=\"row_heading level0 row7\" >Installed capacity of grid interactive bio power per 10 lakh population (MW)</th>\n",
              "      <td id=\"T_ca91f_row7_col0\" class=\"data row7 col0\" >0.000021</td>\n",
              "      <td id=\"T_ca91f_row7_col1\" class=\"data row7 col1\" >0.018539</td>\n",
              "      <td id=\"T_ca91f_row7_col2\" class=\"data row7 col2\" >0.087611</td>\n",
              "      <td id=\"T_ca91f_row7_col3\" class=\"data row7 col3\" >-0.003300</td>\n",
              "      <td id=\"T_ca91f_row7_col4\" class=\"data row7 col4\" >-0.189454</td>\n",
              "      <td id=\"T_ca91f_row7_col5\" class=\"data row7 col5\" >-0.013480</td>\n",
              "      <td id=\"T_ca91f_row7_col6\" class=\"data row7 col6\" >0.237458</td>\n",
              "      <td id=\"T_ca91f_row7_col7\" class=\"data row7 col7\" >1.000000</td>\n",
              "    </tr>\n",
              "  </tbody>\n",
              "</table>\n"
            ]
          },
          "metadata": {},
          "execution_count": 38
        }
      ]
    },
    {
      "cell_type": "code",
      "source": [
        "df11 = pd.read_csv(\"SDG 11.csv\")\n",
        "new_df11=df11.interpolate()\n",
        "train=new_df11.drop(['SNO','Category','States/UTs'], axis=1)\n",
        "test=df['SDG 11']\n",
        "X_train, X_test, y_train, y_test = train_test_split(train, test, test_size=0.3, random_state=3)\n",
        "regr=LinearRegression()\n",
        "regr.fit(X_train, y_train)\n",
        "pred=regr.predict(X_test)\n",
        "print(pred)\n",
        "print(regr.score(X_test, y_test))\n",
        "compare = pd.DataFrame({'Actual': y_test, 'Predicted': pred})\n",
        "print(compare)"
      ],
      "metadata": {
        "colab": {
          "base_uri": "https://localhost:8080/"
        },
        "id": "HuPXXQAVRiWY",
        "outputId": "543ffedf-c479-4bc8-b75e-b0d059e0f80a"
      },
      "execution_count": null,
      "outputs": [
        {
          "output_type": "stream",
          "name": "stdout",
          "text": [
            "[ 67.01545341  71.21741033  54.80901126  61.788966    74.13098402\n",
            "  43.94529009  73.07204441  89.63582744  86.10329385  77.30511806\n",
            " 101.65153138  73.38876188]\n",
            "0.9559717183367249\n",
            "    Actual   Predicted\n",
            "4       67   67.015453\n",
            "26      70   71.217410\n",
            "18      57   54.809011\n",
            "22      65   61.788966\n",
            "17      75   74.130984\n",
            "36      45   43.945290\n",
            "15      71   73.072044\n",
            "28      91   89.635827\n",
            "13      79   86.103294\n",
            "34      77   77.305118\n",
            "5       98  101.651531\n",
            "27      76   73.388762\n"
          ]
        }
      ]
    },
    {
      "cell_type": "code",
      "source": [
        "print(\"\\nAccuracy of model for SDG 11 :\")\n",
        "print(regr.score(X_test, y_test))"
      ],
      "metadata": {
        "colab": {
          "base_uri": "https://localhost:8080/"
        },
        "id": "ZRsbWVQ5mNZ_",
        "outputId": "72ebb14f-8b1d-4260-9d2d-18894c23287f"
      },
      "execution_count": null,
      "outputs": [
        {
          "output_type": "stream",
          "name": "stdout",
          "text": [
            "\n",
            "Accuracy of model for SDG 11 :\n",
            "0.9559717183367249\n"
          ]
        }
      ]
    },
    {
      "cell_type": "code",
      "source": [
        "x_train = X_train.values[:,0].reshape(-1, 1)\n",
        "x_test = X_test.values[:,0].reshape(-1, 1)\n",
        "simple_reg = LinearRegression()\n",
        "simple_reg.fit(x_train, y_train)\n",
        "y_pred = simple_reg.predict(x_test)\n",
        "plt.scatter(x_test, y_test,  color='black')\n",
        "plt.plot(x_test, y_pred, color='blue', linewidth=3)"
      ],
      "metadata": {
        "colab": {
          "base_uri": "https://localhost:8080/",
          "height": 287
        },
        "id": "qM5XHnnLR2pD",
        "outputId": "99381e08-9f52-4f9b-8f29-c3a2b4d73a5b"
      },
      "execution_count": null,
      "outputs": [
        {
          "output_type": "execute_result",
          "data": {
            "text/plain": [
              "[<matplotlib.lines.Line2D at 0x7f5a988f4e10>]"
            ]
          },
          "metadata": {},
          "execution_count": 41
        },
        {
          "output_type": "display_data",
          "data": {
            "text/plain": [
              "<Figure size 432x288 with 1 Axes>"
            ],
            "image/png": "[encoded data removed]"
          },
          "metadata": {
            "needs_background": "light"
          }
        }
      ]
    },
    {
      "cell_type": "code",
      "source": [
        "regr_model= regr.fit(X_train, y_train)\n",
        "regr_predictions= regr.predict(X_test)\n",
        "plt.scatter(y_test, regr_predictions)\n",
        "plt.title(\"Plot of Predicted value vs Actual Value\")\n",
        "plt.xlabel(\"Actual Value\")\n",
        "plt.ylabel(\"Predicted value\")\n",
        "z = np.polyfit(y_test, regr_predictions, 1)\n",
        "p = np.poly1d(z)\n",
        "plt.plot(y_test,p(y_test),\"r--\")\n",
        "plt.show()\n",
        "plt.close()"
      ],
      "metadata": {
        "colab": {
          "base_uri": "https://localhost:8080/",
          "height": 301
        },
        "id": "jUXY32HLSDS2",
        "outputId": "41f3744b-6b6e-49ad-dd03-eaa840a02228"
      },
      "execution_count": null,
      "outputs": [
        {
          "output_type": "display_data",
          "data": {
            "text/plain": [
              "<Figure size 432x288 with 1 Axes>"
            ],
            "image/png": "[encoded data removed]"
          },
          "metadata": {
            "needs_background": "light"
          }
        }
      ]
    },
    {
      "cell_type": "code",
      "source": [
        "corr = new_df11.corr()\n",
        "corr.style.background_gradient(cmap='coolwarm')"
      ],
      "metadata": {
        "colab": {
          "base_uri": "https://localhost:8080/",
          "height": 1000
        },
        "id": "h_8OXKgpSL1b",
        "outputId": "19f627b9-07aa-47df-a89b-d0373963e0bc"
      },
      "execution_count": null,
      "outputs": [
        {
          "output_type": "execute_result",
          "data": {
            "text/plain": [
              "<pandas.io.formats.style.Styler at 0x7f5a9882f610>"
            ],
            "text/html": [
              "<style type=\"text/css\">\n",
              "#T_09ee5_row0_col0, #T_09ee5_row1_col1, #T_09ee5_row2_col2, #T_09ee5_row3_col3, #T_09ee5_row4_col4, #T_09ee5_row5_col5, #T_09ee5_row6_col6, #T_09ee5_row7_col7, #T_09ee5_row8_col8 {\n",
              "  background-color: #b40426;\n",
              "  color: #f1f1f1;\n",
              "}\n",
              "#T_09ee5_row0_col1 {\n",
              "  background-color: #4a63d3;\n",
              "  color: #f1f1f1;\n",
              "}\n",
              "#T_09ee5_row0_col2, #T_09ee5_row0_col6, #T_09ee5_row1_col3, #T_09ee5_row1_col4, #T_09ee5_row1_col5, #T_09ee5_row1_col7, #T_09ee5_row1_col8, #T_09ee5_row2_col0, #T_09ee5_row8_col1 {\n",
              "  background-color: #3b4cc0;\n",
              "  color: #f1f1f1;\n",
              "}\n",
              "#T_09ee5_row0_col3, #T_09ee5_row5_col0 {\n",
              "  background-color: #6c8ff1;\n",
              "  color: #f1f1f1;\n",
              "}\n",
              "#T_09ee5_row0_col4 {\n",
              "  background-color: #3c4ec2;\n",
              "  color: #f1f1f1;\n",
              "}\n",
              "#T_09ee5_row0_col5 {\n",
              "  background-color: #4358cb;\n",
              "  color: #f1f1f1;\n",
              "}\n",
              "#T_09ee5_row0_col7, #T_09ee5_row8_col6 {\n",
              "  background-color: #8badfd;\n",
              "  color: #000000;\n",
              "}\n",
              "#T_09ee5_row0_col8 {\n",
              "  background-color: #a9c6fd;\n",
              "  color: #000000;\n",
              "}\n",
              "#T_09ee5_row1_col0 {\n",
              "  background-color: #688aef;\n",
              "  color: #f1f1f1;\n",
              "}\n",
              "#T_09ee5_row1_col2, #T_09ee5_row2_col8 {\n",
              "  background-color: #bfd3f6;\n",
              "  color: #000000;\n",
              "}\n",
              "#T_09ee5_row1_col6 {\n",
              "  background-color: #3e51c5;\n",
              "  color: #f1f1f1;\n",
              "}\n",
              "#T_09ee5_row2_col1 {\n",
              "  background-color: #a7c5fe;\n",
              "  color: #000000;\n",
              "}\n",
              "#T_09ee5_row2_col3 {\n",
              "  background-color: #aec9fc;\n",
              "  color: #000000;\n",
              "}\n",
              "#T_09ee5_row2_col4, #T_09ee5_row6_col1 {\n",
              "  background-color: #6485ec;\n",
              "  color: #f1f1f1;\n",
              "}\n",
              "#T_09ee5_row2_col5, #T_09ee5_row4_col8 {\n",
              "  background-color: #c9d7f0;\n",
              "  color: #000000;\n",
              "}\n",
              "#T_09ee5_row2_col6 {\n",
              "  background-color: #94b6ff;\n",
              "  color: #000000;\n",
              "}\n",
              "#T_09ee5_row2_col7, #T_09ee5_row5_col4 {\n",
              "  background-color: #adc9fd;\n",
              "  color: #000000;\n",
              "}\n",
              "#T_09ee5_row3_col0 {\n",
              "  background-color: #b3cdfb;\n",
              "  color: #000000;\n",
              "}\n",
              "#T_09ee5_row3_col1 {\n",
              "  background-color: #6b8df0;\n",
              "  color: #f1f1f1;\n",
              "}\n",
              "#T_09ee5_row3_col2, #T_09ee5_row5_col2 {\n",
              "  background-color: #dddcdc;\n",
              "  color: #000000;\n",
              "}\n",
              "#T_09ee5_row3_col4, #T_09ee5_row8_col0 {\n",
              "  background-color: #c0d4f5;\n",
              "  color: #000000;\n",
              "}\n",
              "#T_09ee5_row3_col5, #T_09ee5_row3_col7, #T_09ee5_row6_col4 {\n",
              "  background-color: #dcdddd;\n",
              "  color: #000000;\n",
              "}\n",
              "#T_09ee5_row3_col6 {\n",
              "  background-color: #ecd3c5;\n",
              "  color: #000000;\n",
              "}\n",
              "#T_09ee5_row3_col8 {\n",
              "  background-color: #d4dbe6;\n",
              "  color: #000000;\n",
              "}\n",
              "#T_09ee5_row4_col0 {\n",
              "  background-color: #8fb1fe;\n",
              "  color: #000000;\n",
              "}\n",
              "#T_09ee5_row4_col1 {\n",
              "  background-color: #7093f3;\n",
              "  color: #f1f1f1;\n",
              "}\n",
              "#T_09ee5_row4_col2 {\n",
              "  background-color: #b1cbfc;\n",
              "  color: #000000;\n",
              "}\n",
              "#T_09ee5_row4_col3 {\n",
              "  background-color: #c4d5f3;\n",
              "  color: #000000;\n",
              "}\n",
              "#T_09ee5_row4_col5 {\n",
              "  background-color: #cbd8ee;\n",
              "  color: #000000;\n",
              "}\n",
              "#T_09ee5_row4_col6 {\n",
              "  background-color: #e3d9d3;\n",
              "  color: #000000;\n",
              "}\n",
              "#T_09ee5_row4_col7 {\n",
              "  background-color: #90b2fe;\n",
              "  color: #000000;\n",
              "}\n",
              "#T_09ee5_row5_col1 {\n",
              "  background-color: #455cce;\n",
              "  color: #f1f1f1;\n",
              "}\n",
              "#T_09ee5_row5_col3 {\n",
              "  background-color: #cad8ef;\n",
              "  color: #000000;\n",
              "}\n",
              "#T_09ee5_row5_col6 {\n",
              "  background-color: #f6a385;\n",
              "  color: #000000;\n",
              "}\n",
              "#T_09ee5_row5_col7 {\n",
              "  background-color: #b9d0f9;\n",
              "  color: #000000;\n",
              "}\n",
              "#T_09ee5_row5_col8, #T_09ee5_row6_col8 {\n",
              "  background-color: #abc8fd;\n",
              "  color: #000000;\n",
              "}\n",
              "#T_09ee5_row6_col0 {\n",
              "  background-color: #80a3fa;\n",
              "  color: #f1f1f1;\n",
              "}\n",
              "#T_09ee5_row6_col2 {\n",
              "  background-color: #c7d7f0;\n",
              "  color: #000000;\n",
              "}\n",
              "#T_09ee5_row6_col3 {\n",
              "  background-color: #e9d5cb;\n",
              "  color: #000000;\n",
              "}\n",
              "#T_09ee5_row6_col5 {\n",
              "  background-color: #f4987a;\n",
              "  color: #000000;\n",
              "}\n",
              "#T_09ee5_row6_col7 {\n",
              "  background-color: #bed2f6;\n",
              "  color: #000000;\n",
              "}\n",
              "#T_09ee5_row7_col0, #T_09ee5_row8_col3 {\n",
              "  background-color: #b6cefa;\n",
              "  color: #000000;\n",
              "}\n",
              "#T_09ee5_row7_col1 {\n",
              "  background-color: #516ddb;\n",
              "  color: #f1f1f1;\n",
              "}\n",
              "#T_09ee5_row7_col2, #T_09ee5_row7_col3 {\n",
              "  background-color: #cfdaea;\n",
              "  color: #000000;\n",
              "}\n",
              "#T_09ee5_row7_col4 {\n",
              "  background-color: #7295f4;\n",
              "  color: #f1f1f1;\n",
              "}\n",
              "#T_09ee5_row7_col5 {\n",
              "  background-color: #c1d4f4;\n",
              "  color: #000000;\n",
              "}\n",
              "#T_09ee5_row7_col6 {\n",
              "  background-color: #b2ccfb;\n",
              "  color: #000000;\n",
              "}\n",
              "#T_09ee5_row7_col8 {\n",
              "  background-color: #f7b093;\n",
              "  color: #000000;\n",
              "}\n",
              "#T_09ee5_row8_col2 {\n",
              "  background-color: #d2dbe8;\n",
              "  color: #000000;\n",
              "}\n",
              "#T_09ee5_row8_col4 {\n",
              "  background-color: #a1c0ff;\n",
              "  color: #000000;\n",
              "}\n",
              "#T_09ee5_row8_col5 {\n",
              "  background-color: #a3c2fe;\n",
              "  color: #000000;\n",
              "}\n",
              "#T_09ee5_row8_col7 {\n",
              "  background-color: #f7b89c;\n",
              "  color: #000000;\n",
              "}\n",
              "</style>\n",
              "<table id=\"T_09ee5_\" class=\"dataframe\">\n",
              "  <thead>\n",
              "    <tr>\n",
              "      <th class=\"blank level0\" >&nbsp;</th>\n",
              "      <th class=\"col_heading level0 col0\" >SNO</th>\n",
              "      <th class=\"col_heading level0 col1\" >Percentage of urban households living in katcha houses</th>\n",
              "      <th class=\"col_heading level0 col2\" >Deaths due to road accidents in urban areas (per 1,00,000 population) </th>\n",
              "      <th class=\"col_heading level0 col3\" >Percentage of wards with 100% door to door waste collection (SBM(U))</th>\n",
              "      <th class=\"col_heading level0 col4\" >Percentage of individual household toilets constructed against target (SBM(U))</th>\n",
              "      <th class=\"col_heading level0 col5\" >Percentage of  MSW processed to the total MSW generated (SBM(U))</th>\n",
              "      <th class=\"col_heading level0 col6\" >Percentage of wards with 100% source segregation (SBM(U))</th>\n",
              "      <th class=\"col_heading level0 col7\" >Installed sewage treatment capacity as a percentage of sewage generated in urban areas </th>\n",
              "      <th class=\"col_heading level0 col8\" >Percentage of urban households with drainage facility</th>\n",
              "    </tr>\n",
              "  </thead>\n",
              "  <tbody>\n",
              "    <tr>\n",
              "      <th id=\"T_09ee5_level0_row0\" class=\"row_heading level0 row0\" >SNO</th>\n",
              "      <td id=\"T_09ee5_row0_col0\" class=\"data row0 col0\" >1.000000</td>\n",
              "      <td id=\"T_09ee5_row0_col1\" class=\"data row0 col1\" >-0.279692</td>\n",
              "      <td id=\"T_09ee5_row0_col2\" class=\"data row0 col2\" >-0.499584</td>\n",
              "      <td id=\"T_09ee5_row0_col3\" class=\"data row0 col3\" >0.039917</td>\n",
              "      <td id=\"T_09ee5_row0_col4\" class=\"data row0 col4\" >-0.113016</td>\n",
              "      <td id=\"T_09ee5_row0_col5\" class=\"data row0 col5\" >-0.264333</td>\n",
              "      <td id=\"T_09ee5_row0_col6\" class=\"data row0 col6\" >-0.183023</td>\n",
              "      <td id=\"T_09ee5_row0_col7\" class=\"data row0 col7\" >0.056726</td>\n",
              "      <td id=\"T_09ee5_row0_col8\" class=\"data row0 col8\" >0.098059</td>\n",
              "    </tr>\n",
              "    <tr>\n",
              "      <th id=\"T_09ee5_level0_row1\" class=\"row_heading level0 row1\" >Percentage of urban households living in katcha houses</th>\n",
              "      <td id=\"T_09ee5_row1_col0\" class=\"data row1 col0\" >-0.279692</td>\n",
              "      <td id=\"T_09ee5_row1_col1\" class=\"data row1 col1\" >1.000000</td>\n",
              "      <td id=\"T_09ee5_row1_col2\" class=\"data row1 col2\" >0.092431</td>\n",
              "      <td id=\"T_09ee5_row1_col3\" class=\"data row1 col3\" >-0.143012</td>\n",
              "      <td id=\"T_09ee5_row1_col4\" class=\"data row1 col4\" >-0.118197</td>\n",
              "      <td id=\"T_09ee5_row1_col5\" class=\"data row1 col5\" >-0.301894</td>\n",
              "      <td id=\"T_09ee5_row1_col6\" class=\"data row1 col6\" >-0.168610</td>\n",
              "      <td id=\"T_09ee5_row1_col7\" class=\"data row1 col7\" >-0.247213</td>\n",
              "      <td id=\"T_09ee5_row1_col8\" class=\"data row1 col8\" >-0.350197</td>\n",
              "    </tr>\n",
              "    <tr>\n",
              "      <th id=\"T_09ee5_level0_row2\" class=\"row_heading level0 row2\" >Deaths due to road accidents in urban areas (per 1,00,000 population) </th>\n",
              "      <td id=\"T_09ee5_row2_col0\" class=\"data row2 col0\" >-0.499584</td>\n",
              "      <td id=\"T_09ee5_row2_col1\" class=\"data row2 col1\" >0.092431</td>\n",
              "      <td id=\"T_09ee5_row2_col2\" class=\"data row2 col2\" >1.000000</td>\n",
              "      <td id=\"T_09ee5_row2_col3\" class=\"data row2 col3\" >0.250748</td>\n",
              "      <td id=\"T_09ee5_row2_col4\" class=\"data row2 col4\" >0.030382</td>\n",
              "      <td id=\"T_09ee5_row2_col5\" class=\"data row2 col5\" >0.252685</td>\n",
              "      <td id=\"T_09ee5_row2_col6\" class=\"data row2 col6\" >0.138063</td>\n",
              "      <td id=\"T_09ee5_row2_col7\" class=\"data row2 col7\" >0.176735</td>\n",
              "      <td id=\"T_09ee5_row2_col8\" class=\"data row2 col8\" >0.187205</td>\n",
              "    </tr>\n",
              "    <tr>\n",
              "      <th id=\"T_09ee5_level0_row3\" class=\"row_heading level0 row3\" >Percentage of wards with 100% door to door waste collection (SBM(U))</th>\n",
              "      <td id=\"T_09ee5_row3_col0\" class=\"data row3 col0\" >0.039917</td>\n",
              "      <td id=\"T_09ee5_row3_col1\" class=\"data row3 col1\" >-0.143012</td>\n",
              "      <td id=\"T_09ee5_row3_col2\" class=\"data row3 col2\" >0.250748</td>\n",
              "      <td id=\"T_09ee5_row3_col3\" class=\"data row3 col3\" >1.000000</td>\n",
              "      <td id=\"T_09ee5_row3_col4\" class=\"data row3 col4\" >0.329593</td>\n",
              "      <td id=\"T_09ee5_row3_col5\" class=\"data row3 col5\" >0.348360</td>\n",
              "      <td id=\"T_09ee5_row3_col6\" class=\"data row3 col6\" >0.484735</td>\n",
              "      <td id=\"T_09ee5_row3_col7\" class=\"data row3 col7\" >0.372982</td>\n",
              "      <td id=\"T_09ee5_row3_col8\" class=\"data row3 col8\" >0.280786</td>\n",
              "    </tr>\n",
              "    <tr>\n",
              "      <th id=\"T_09ee5_level0_row4\" class=\"row_heading level0 row4\" >Percentage of individual household toilets constructed against target (SBM(U))</th>\n",
              "      <td id=\"T_09ee5_row4_col0\" class=\"data row4 col0\" >-0.113016</td>\n",
              "      <td id=\"T_09ee5_row4_col1\" class=\"data row4 col1\" >-0.118197</td>\n",
              "      <td id=\"T_09ee5_row4_col2\" class=\"data row4 col2\" >0.030382</td>\n",
              "      <td id=\"T_09ee5_row4_col3\" class=\"data row4 col3\" >0.329593</td>\n",
              "      <td id=\"T_09ee5_row4_col4\" class=\"data row4 col4\" >1.000000</td>\n",
              "      <td id=\"T_09ee5_row4_col5\" class=\"data row4 col5\" >0.264355</td>\n",
              "      <td id=\"T_09ee5_row4_col6\" class=\"data row4 col6\" >0.439040</td>\n",
              "      <td id=\"T_09ee5_row4_col7\" class=\"data row4 col7\" >0.076721</td>\n",
              "      <td id=\"T_09ee5_row4_col8\" class=\"data row4 col8\" >0.224879</td>\n",
              "    </tr>\n",
              "    <tr>\n",
              "      <th id=\"T_09ee5_level0_row5\" class=\"row_heading level0 row5\" >Percentage of  MSW processed to the total MSW generated (SBM(U))</th>\n",
              "      <td id=\"T_09ee5_row5_col0\" class=\"data row5 col0\" >-0.264333</td>\n",
              "      <td id=\"T_09ee5_row5_col1\" class=\"data row5 col1\" >-0.301894</td>\n",
              "      <td id=\"T_09ee5_row5_col2\" class=\"data row5 col2\" >0.252685</td>\n",
              "      <td id=\"T_09ee5_row5_col3\" class=\"data row5 col3\" >0.348360</td>\n",
              "      <td id=\"T_09ee5_row5_col4\" class=\"data row5 col4\" >0.264355</td>\n",
              "      <td id=\"T_09ee5_row5_col5\" class=\"data row5 col5\" >1.000000</td>\n",
              "      <td id=\"T_09ee5_row5_col6\" class=\"data row5 col6\" >0.675703</td>\n",
              "      <td id=\"T_09ee5_row5_col7\" class=\"data row5 col7\" >0.222198</td>\n",
              "      <td id=\"T_09ee5_row5_col8\" class=\"data row5 col8\" >0.105578</td>\n",
              "    </tr>\n",
              "    <tr>\n",
              "      <th id=\"T_09ee5_level0_row6\" class=\"row_heading level0 row6\" >Percentage of wards with 100% source segregation (SBM(U))</th>\n",
              "      <td id=\"T_09ee5_row6_col0\" class=\"data row6 col0\" >-0.183023</td>\n",
              "      <td id=\"T_09ee5_row6_col1\" class=\"data row6 col1\" >-0.168610</td>\n",
              "      <td id=\"T_09ee5_row6_col2\" class=\"data row6 col2\" >0.138063</td>\n",
              "      <td id=\"T_09ee5_row6_col3\" class=\"data row6 col3\" >0.484735</td>\n",
              "      <td id=\"T_09ee5_row6_col4\" class=\"data row6 col4\" >0.439040</td>\n",
              "      <td id=\"T_09ee5_row6_col5\" class=\"data row6 col5\" >0.675703</td>\n",
              "      <td id=\"T_09ee5_row6_col6\" class=\"data row6 col6\" >1.000000</td>\n",
              "      <td id=\"T_09ee5_row6_col7\" class=\"data row6 col7\" >0.241806</td>\n",
              "      <td id=\"T_09ee5_row6_col8\" class=\"data row6 col8\" >0.106604</td>\n",
              "    </tr>\n",
              "    <tr>\n",
              "      <th id=\"T_09ee5_level0_row7\" class=\"row_heading level0 row7\" >Installed sewage treatment capacity as a percentage of sewage generated in urban areas </th>\n",
              "      <td id=\"T_09ee5_row7_col0\" class=\"data row7 col0\" >0.056726</td>\n",
              "      <td id=\"T_09ee5_row7_col1\" class=\"data row7 col1\" >-0.247213</td>\n",
              "      <td id=\"T_09ee5_row7_col2\" class=\"data row7 col2\" >0.176735</td>\n",
              "      <td id=\"T_09ee5_row7_col3\" class=\"data row7 col3\" >0.372982</td>\n",
              "      <td id=\"T_09ee5_row7_col4\" class=\"data row7 col4\" >0.076721</td>\n",
              "      <td id=\"T_09ee5_row7_col5\" class=\"data row7 col5\" >0.222198</td>\n",
              "      <td id=\"T_09ee5_row7_col6\" class=\"data row7 col6\" >0.241806</td>\n",
              "      <td id=\"T_09ee5_row7_col7\" class=\"data row7 col7\" >1.000000</td>\n",
              "      <td id=\"T_09ee5_row7_col8\" class=\"data row7 col8\" >0.581896</td>\n",
              "    </tr>\n",
              "    <tr>\n",
              "      <th id=\"T_09ee5_level0_row8\" class=\"row_heading level0 row8\" >Percentage of urban households with drainage facility</th>\n",
              "      <td id=\"T_09ee5_row8_col0\" class=\"data row8 col0\" >0.098059</td>\n",
              "      <td id=\"T_09ee5_row8_col1\" class=\"data row8 col1\" >-0.350197</td>\n",
              "      <td id=\"T_09ee5_row8_col2\" class=\"data row8 col2\" >0.187205</td>\n",
              "      <td id=\"T_09ee5_row8_col3\" class=\"data row8 col3\" >0.280786</td>\n",
              "      <td id=\"T_09ee5_row8_col4\" class=\"data row8 col4\" >0.224879</td>\n",
              "      <td id=\"T_09ee5_row8_col5\" class=\"data row8 col5\" >0.105578</td>\n",
              "      <td id=\"T_09ee5_row8_col6\" class=\"data row8 col6\" >0.106604</td>\n",
              "      <td id=\"T_09ee5_row8_col7\" class=\"data row8 col7\" >0.581896</td>\n",
              "      <td id=\"T_09ee5_row8_col8\" class=\"data row8 col8\" >1.000000</td>\n",
              "    </tr>\n",
              "  </tbody>\n",
              "</table>\n"
            ]
          },
          "metadata": {},
          "execution_count": 43
        }
      ]
    },
    {
      "cell_type": "code",
      "source": [
        ""
      ],
      "metadata": {
        "id": "TcOpnkxUSWRn"
      },
      "execution_count": null,
      "outputs": []
    }
  ]
}