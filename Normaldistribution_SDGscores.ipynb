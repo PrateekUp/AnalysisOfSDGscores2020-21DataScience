{
 "cells": [
  {
   "cell_type": "code",
   "execution_count": 1,
   "id": "ef7790c6",
   "metadata": {},
   "outputs": [],
   "source": [
    "import pandas as pd\n",
    "import numpy as np\n",
    "import seaborn as sns\n",
    "sns.set(rc={'figure.figsize':(11.7,8.27)})\n",
    "import matplotlib.pyplot as plt"
   ]
  },
  {
   "cell_type": "code",
   "execution_count": 17,
   "id": "b2773d3f",
   "metadata": {},
   "outputs": [],
   "source": [
    "data = pd.read_csv(\"D:\\IIT\\Projects\\DataScienceproject\\DSpro_sustainabledev_working\\Composite Score.csv\")"
   ]
  },
  {
   "cell_type": "code",
   "execution_count": 33,
   "id": "063e37d7",
   "metadata": {},
   "outputs": [
    {
     "name": "stdout",
     "output_type": "stream",
     "text": [
      "stat-0.92, p-0.012286775745451450347900390625\n",
      "not a normal distribution\n"
     ]
    }
   ],
   "source": [
    "from scipy.stats import shapiro\n",
    "DataToTest=data[\"SDG 1\"]\n",
    "stat, p=shapiro(DataToTest)\n",
    "print('stat-%.2f, p-%.30f' % (stat,p))\n",
    "\n",
    "if p> 0.05:\n",
    "    print(\"yes normal distribution\")\n",
    "else:\n",
    "    print(\"not a normal distribution\")"
   ]
  },
  {
   "cell_type": "code",
   "execution_count": 34,
   "id": "12592e4f",
   "metadata": {},
   "outputs": [
    {
     "name": "stdout",
     "output_type": "stream",
     "text": [
      "stat-0.99, p-0.967886567115783691406250000000\n",
      "yes normal distribution\n"
     ]
    }
   ],
   "source": [
    "from scipy.stats import shapiro\n",
    "DataToTest=data[\"SDG 2\"]\n",
    "stat, p=shapiro(DataToTest)\n",
    "print('stat-%.2f, p-%.30f' % (stat,p))\n",
    "\n",
    "if p> 0.05:\n",
    "    print(\"yes normal distribution\")\n",
    "else:\n",
    "    print(\"not a normal distribution\")"
   ]
  },
  {
   "cell_type": "code",
   "execution_count": 35,
   "id": "80cd3444",
   "metadata": {},
   "outputs": [
    {
     "name": "stdout",
     "output_type": "stream",
     "text": [
      "stat-0.98, p-0.588117778301239013671875000000\n",
      "yes normal distribution\n"
     ]
    }
   ],
   "source": [
    "from scipy.stats import shapiro\n",
    "DataToTest=data[\"SDG 3\"]\n",
    "stat, p=shapiro(DataToTest)\n",
    "print('stat-%.2f, p-%.30f' % (stat,p))\n",
    "\n",
    "if p> 0.05:\n",
    "    print(\"yes normal distribution\")\n",
    "else:\n",
    "    print(\"not a normal distribution\")"
   ]
  },
  {
   "cell_type": "code",
   "execution_count": 36,
   "id": "89b52f8c",
   "metadata": {},
   "outputs": [
    {
     "name": "stdout",
     "output_type": "stream",
     "text": [
      "stat-0.99, p-0.904253959655761718750000000000\n",
      "yes normal distribution\n"
     ]
    }
   ],
   "source": [
    "from scipy.stats import shapiro\n",
    "DataToTest=data[\"SDG 4\"]\n",
    "stat, p=shapiro(DataToTest)\n",
    "print('stat-%.2f, p-%.30f' % (stat,p))\n",
    "\n",
    "if p> 0.05:\n",
    "    print(\"yes normal distribution\")\n",
    "else:\n",
    "    print(\"not a normal distribution\")"
   ]
  },
  {
   "cell_type": "code",
   "execution_count": 28,
   "id": "9a4b3b63",
   "metadata": {},
   "outputs": [
    {
     "name": "stdout",
     "output_type": "stream",
     "text": [
      "67.52777777777777\n",
      "11.434562886051294\n"
     ]
    },
    {
     "data": {
      "image/png": "[encoded data removed]",
      "text/plain": [
       "<Figure size 842.4x595.44 with 1 Axes>"
      ]
     },
     "metadata": {},
     "output_type": "display_data"
    }
   ],
   "source": [
    "hist=data.hist('SDG 10',bins=50)\n",
    "mean=np.mean(data['SDG 10'])\n",
    "print(mean)\n",
    "std=np.std(data['SDG 10'])\n",
    "print(std)\n",
    "import math\n",
    "def fx(x,mu,sigma):\n",
    "    return 1/(sigma*np.sqrt(2*np.pi))*np.exp(-np.power((x-mu)/sigma,2)/2)\n",
    "x=np.arange(-10,120,0.001)\n",
    "plt.plot(x,fx(x,mean,std))\n",
    "plt.show()"
   ]
  },
  {
   "cell_type": "code",
   "execution_count": 37,
   "id": "a9874706",
   "metadata": {},
   "outputs": [
    {
     "name": "stdout",
     "output_type": "stream",
     "text": [
      "stat-0.98, p-0.885340034961700439453125000000\n",
      "yes normal distribution\n"
     ]
    }
   ],
   "source": [
    "from scipy.stats import shapiro\n",
    "DataToTest=data[\"SDG 5\"]\n",
    "stat, p=shapiro(DataToTest)\n",
    "print('stat-%.2f, p-%.30f' % (stat,p))\n",
    "\n",
    "if p> 0.05:\n",
    "    print(\"yes normal distribution\")\n",
    "else:\n",
    "    print(\"not a normal distribution\")"
   ]
  },
  {
   "cell_type": "code",
   "execution_count": 38,
   "id": "a2d11647",
   "metadata": {},
   "outputs": [
    {
     "name": "stdout",
     "output_type": "stream",
     "text": [
      "stat-0.88, p-0.001290484331548213958740234375\n",
      "not a normal distribution\n"
     ]
    }
   ],
   "source": [
    "from scipy.stats import shapiro\n",
    "DataToTest=data[\"SDG 6\"]\n",
    "stat, p=shapiro(DataToTest)\n",
    "print('stat-%.2f, p-%.30f' % (stat,p))\n",
    "\n",
    "if p> 0.05:\n",
    "    print(\"yes normal distribution\")\n",
    "else:\n",
    "    print(\"not a normal distribution\")"
   ]
  },
  {
   "cell_type": "code",
   "execution_count": 39,
   "id": "0e0aea37",
   "metadata": {},
   "outputs": [
    {
     "name": "stdout",
     "output_type": "stream",
     "text": [
      "stat-0.69, p-0.000000227739832325823954306543\n",
      "not a normal distribution\n"
     ]
    }
   ],
   "source": [
    "from scipy.stats import shapiro\n",
    "DataToTest=data[\"SDG 7\"]\n",
    "stat, p=shapiro(DataToTest)\n",
    "print('stat-%.2f, p-%.30f' % (stat,p))\n",
    "\n",
    "if p> 0.05:\n",
    "    print(\"yes normal distribution\")\n",
    "else:\n",
    "    print(\"not a normal distribution\")"
   ]
  },
  {
   "cell_type": "code",
   "execution_count": 40,
   "id": "16d6862e",
   "metadata": {},
   "outputs": [
    {
     "name": "stdout",
     "output_type": "stream",
     "text": [
      "stat-0.98, p-0.887121379375457763671875000000\n",
      "yes normal distribution\n"
     ]
    }
   ],
   "source": [
    "from scipy.stats import shapiro\n",
    "DataToTest=data[\"SDG 8\"]\n",
    "stat, p=shapiro(DataToTest)\n",
    "print('stat-%.2f, p-%.30f' % (stat,p))\n",
    "\n",
    "if p> 0.05:\n",
    "    print(\"yes normal distribution\")\n",
    "else:\n",
    "    print(\"not a normal distribution\")"
   ]
  },
  {
   "cell_type": "code",
   "execution_count": 41,
   "id": "c998a76f",
   "metadata": {},
   "outputs": [
    {
     "name": "stdout",
     "output_type": "stream",
     "text": [
      "stat-0.95, p-0.146500617265701293945312500000\n",
      "yes normal distribution\n"
     ]
    }
   ],
   "source": [
    "from scipy.stats import shapiro\n",
    "DataToTest=data[\"SDG 9\"]\n",
    "stat, p=shapiro(DataToTest)\n",
    "print('stat-%.2f, p-%.30f' % (stat,p))\n",
    "\n",
    "if p> 0.05:\n",
    "    print(\"yes normal distribution\")\n",
    "else:\n",
    "    print(\"not a normal distribution\")"
   ]
  },
  {
   "cell_type": "code",
   "execution_count": 42,
   "id": "3de2dc7d",
   "metadata": {},
   "outputs": [
    {
     "name": "stdout",
     "output_type": "stream",
     "text": [
      "stat-0.93, p-0.021405844017863273620605468750\n",
      "not a normal distribution\n"
     ]
    }
   ],
   "source": [
    "from scipy.stats import shapiro\n",
    "DataToTest=data[\"SDG 10\"]\n",
    "stat, p=shapiro(DataToTest)\n",
    "print('stat-%.2f, p-%.30f' % (stat,p))\n",
    "\n",
    "if p> 0.05:\n",
    "    print(\"yes normal distribution\")\n",
    "else:\n",
    "    print(\"not a normal distribution\")"
   ]
  },
  {
   "cell_type": "code",
   "execution_count": 43,
   "id": "4957b3e8",
   "metadata": {},
   "outputs": [
    {
     "name": "stdout",
     "output_type": "stream",
     "text": [
      "stat-0.96, p-0.197570458054542541503906250000\n",
      "yes normal distribution\n"
     ]
    }
   ],
   "source": [
    "from scipy.stats import shapiro\n",
    "DataToTest=data[\"SDG 11\"]\n",
    "stat, p=shapiro(DataToTest)\n",
    "print('stat-%.2f, p-%.30f' % (stat,p))\n",
    "\n",
    "if p> 0.05:\n",
    "    print(\"yes normal distribution\")\n",
    "else:\n",
    "    print(\"not a normal distribution\")"
   ]
  },
  {
   "cell_type": "code",
   "execution_count": 44,
   "id": "e16ed342",
   "metadata": {},
   "outputs": [
    {
     "name": "stdout",
     "output_type": "stream",
     "text": [
      "stat-0.97, p-0.560765802860260009765625000000\n",
      "yes normal distribution\n"
     ]
    }
   ],
   "source": [
    "from scipy.stats import shapiro\n",
    "DataToTest=data[\"SDG 12\"]\n",
    "stat, p=shapiro(DataToTest)\n",
    "print('stat-%.2f, p-%.30f' % (stat,p))\n",
    "\n",
    "if p> 0.05:\n",
    "    print(\"yes normal distribution\")\n",
    "else:\n",
    "    print(\"not a normal distribution\")"
   ]
  },
  {
   "cell_type": "code",
   "execution_count": 45,
   "id": "4b1d216b",
   "metadata": {},
   "outputs": [
    {
     "name": "stdout",
     "output_type": "stream",
     "text": [
      "stat-0.91, p-0.005640229675918817520141601562\n",
      "not a normal distribution\n"
     ]
    }
   ],
   "source": [
    "from scipy.stats import shapiro\n",
    "DataToTest=data[\"SDG 13\"]\n",
    "stat, p=shapiro(DataToTest)\n",
    "print('stat-%.2f, p-%.30f' % (stat,p))\n",
    "\n",
    "if p> 0.05:\n",
    "    print(\"yes normal distribution\")\n",
    "else:\n",
    "    print(\"not a normal distribution\")"
   ]
  },
  {
   "cell_type": "code",
   "execution_count": 46,
   "id": "86b1f7ec",
   "metadata": {},
   "outputs": [
    {
     "name": "stdout",
     "output_type": "stream",
     "text": [
      "stat-0.98, p-0.743561863899230957031250000000\n",
      "yes normal distribution\n"
     ]
    }
   ],
   "source": [
    "from scipy.stats import shapiro\n",
    "DataToTest=data[\"SDG 15\"]\n",
    "stat, p=shapiro(DataToTest)\n",
    "print('stat-%.2f, p-%.30f' % (stat,p))\n",
    "\n",
    "if p> 0.05:\n",
    "    print(\"yes normal distribution\")\n",
    "else:\n",
    "    print(\"not a normal distribution\")"
   ]
  },
  {
   "cell_type": "code",
   "execution_count": 47,
   "id": "0bca0304",
   "metadata": {},
   "outputs": [
    {
     "name": "stdout",
     "output_type": "stream",
     "text": [
      "stat-0.94, p-0.043810945004224777221679687500\n",
      "not a normal distribution\n"
     ]
    }
   ],
   "source": [
    "from scipy.stats import shapiro\n",
    "DataToTest=data[\"SDG 16\"]\n",
    "stat, p=shapiro(DataToTest)\n",
    "print('stat-%.2f, p-%.30f' % (stat,p))\n",
    "\n",
    "if p> 0.05:\n",
    "    print(\"yes normal distribution\")\n",
    "else:\n",
    "    print(\"not a normal distribution\")"
   ]
  },
  {
   "cell_type": "markdown",
   "id": "c2ee73ce",
   "metadata": {},
   "source": [
    "# SDG 2,3,4,5,8,9,11,12,15"
   ]
  },
  {
   "cell_type": "code",
   "execution_count": 49,
   "id": "1de536b9",
   "metadata": {},
   "outputs": [
    {
     "name": "stdout",
     "output_type": "stream",
     "text": [
      "55.47222222222222\n",
      "16.306927824140523\n"
     ]
    },
    {
     "data": {
      "image/png": "[encoded data removed]",
      "text/plain": [
       "<Figure size 842.4x595.44 with 1 Axes>"
      ]
     },
     "metadata": {},
     "output_type": "display_data"
    }
   ],
   "source": [
    "\n",
    "#normalised graphs for SDGs:\n",
    "hist=data.hist('SDG 10',bins=50)\n",
    "mean=np.mean(data['SDG 2'])\n",
    "print(mean)\n",
    "std=np.std(data['SDG 2'])\n",
    "print(std)\n",
    "import math\n",
    "def fx(x,mu,sigma):\n",
    "    return 1/(sigma*np.sqrt(2*np.pi))*np.exp(-np.power((x-mu)/sigma,2)/2)\n",
    "x=np.arange(-10,120,0.001)\n",
    "plt.plot(x,fx(x,mean,std))\n",
    "plt.show()"
   ]
  },
  {
   "cell_type": "code",
   "execution_count": 53,
   "id": "03168712",
   "metadata": {},
   "outputs": [
    {
     "name": "stdout",
     "output_type": "stream",
     "text": [
      "55.47222222222222\n",
      "16.306927824140523\n"
     ]
    },
    {
     "data": {
      "image/png": "[encoded data removed]",
      "text/plain": [
       "<Figure size 842.4x595.44 with 1 Axes>"
      ]
     },
     "metadata": {},
     "output_type": "display_data"
    },
    {
     "data": {
      "image/png": "[encoded data removed]",
      "text/plain": [
       "<Figure size 360x360 with 1 Axes>"
      ]
     },
     "metadata": {},
     "output_type": "display_data"
    }
   ],
   "source": [
    "hist=data.hist('SDG 2',bins=30)\n",
    "import seaborn as sns\n",
    "sns.displot(data['SDG 2'],color='blue')\n",
    "mean=np.mean(data['SDG 2'])\n",
    "print(mean)\n",
    "std=np.std(data['SDG 2'])\n",
    "print(std)\n",
    "import math\n",
    "def fx(x,mu,sigma):\n",
    "    return 1/(sigma*np.sqrt(2*np.pi))*np.exp(-np.power((x-mu)/sigma,2)/2)\n",
    "x=np.arange(-10,120,0.001)\n",
    "plt.plot(x,fx(x,mean,std))\n",
    "plt.show()"
   ]
  },
  {
   "cell_type": "code",
   "execution_count": 54,
   "id": "bc93efd3",
   "metadata": {},
   "outputs": [
    {
     "data": {
      "text/html": [
       "<div>\n",
       "<style scoped>\n",
       "    .dataframe tbody tr th:only-of-type {\n",
       "        vertical-align: middle;\n",
       "    }\n",
       "\n",
       "    .dataframe tbody tr th {\n",
       "        vertical-align: top;\n",
       "    }\n",
       "\n",
       "    .dataframe thead th {\n",
       "        text-align: right;\n",
       "    }\n",
       "</style>\n",
       "<table border=\"1\" class=\"dataframe\">\n",
       "  <thead>\n",
       "    <tr style=\"text-align: right;\">\n",
       "      <th></th>\n",
       "      <th>SDG 1</th>\n",
       "      <th>SDG 2</th>\n",
       "      <th>SDG 3</th>\n",
       "      <th>SDG 4</th>\n",
       "      <th>SDG 5</th>\n",
       "      <th>SDG 6</th>\n",
       "      <th>SDG 7</th>\n",
       "      <th>SDG 8</th>\n",
       "      <th>SDG 9</th>\n",
       "      <th>SDG 10</th>\n",
       "      <th>SDG 11</th>\n",
       "      <th>SDG 12</th>\n",
       "      <th>SDG 13</th>\n",
       "      <th>SDG 15</th>\n",
       "      <th>SDG 16</th>\n",
       "      <th>Composite Score</th>\n",
       "      <th>Rank</th>\n",
       "    </tr>\n",
       "  </thead>\n",
       "  <tbody>\n",
       "    <tr>\n",
       "      <th>count</th>\n",
       "      <td>36.000000</td>\n",
       "      <td>36.000000</td>\n",
       "      <td>36.000000</td>\n",
       "      <td>36.000000</td>\n",
       "      <td>36.000000</td>\n",
       "      <td>36.000000</td>\n",
       "      <td>36.000000</td>\n",
       "      <td>36.000000</td>\n",
       "      <td>36.000000</td>\n",
       "      <td>36.000000</td>\n",
       "      <td>36.000000</td>\n",
       "      <td>36.000000</td>\n",
       "      <td>36.000000</td>\n",
       "      <td>36.000000</td>\n",
       "      <td>36.000000</td>\n",
       "      <td>36.000000</td>\n",
       "      <td>36.000000</td>\n",
       "    </tr>\n",
       "    <tr>\n",
       "      <th>mean</th>\n",
       "      <td>66.500000</td>\n",
       "      <td>55.472222</td>\n",
       "      <td>71.805556</td>\n",
       "      <td>57.111111</td>\n",
       "      <td>50.111111</td>\n",
       "      <td>84.555556</td>\n",
       "      <td>92.333333</td>\n",
       "      <td>59.833333</td>\n",
       "      <td>48.138889</td>\n",
       "      <td>67.527778</td>\n",
       "      <td>72.222222</td>\n",
       "      <td>74.333333</td>\n",
       "      <td>53.277778</td>\n",
       "      <td>64.527778</td>\n",
       "      <td>72.583333</td>\n",
       "      <td>66.055556</td>\n",
       "      <td>11.638889</td>\n",
       "    </tr>\n",
       "    <tr>\n",
       "      <th>std</th>\n",
       "      <td>14.456832</td>\n",
       "      <td>16.538243</td>\n",
       "      <td>7.645052</td>\n",
       "      <td>12.101423</td>\n",
       "      <td>9.662232</td>\n",
       "      <td>10.656841</td>\n",
       "      <td>12.125534</td>\n",
       "      <td>9.060117</td>\n",
       "      <td>14.552668</td>\n",
       "      <td>11.596763</td>\n",
       "      <td>14.178678</td>\n",
       "      <td>12.897397</td>\n",
       "      <td>15.331780</td>\n",
       "      <td>13.635010</td>\n",
       "      <td>7.969137</td>\n",
       "      <td>5.980657</td>\n",
       "      <td>8.394395</td>\n",
       "    </tr>\n",
       "    <tr>\n",
       "      <th>min</th>\n",
       "      <td>32.000000</td>\n",
       "      <td>19.000000</td>\n",
       "      <td>59.000000</td>\n",
       "      <td>29.000000</td>\n",
       "      <td>25.000000</td>\n",
       "      <td>54.000000</td>\n",
       "      <td>50.000000</td>\n",
       "      <td>36.000000</td>\n",
       "      <td>23.000000</td>\n",
       "      <td>41.000000</td>\n",
       "      <td>39.000000</td>\n",
       "      <td>47.000000</td>\n",
       "      <td>16.000000</td>\n",
       "      <td>27.000000</td>\n",
       "      <td>46.000000</td>\n",
       "      <td>52.000000</td>\n",
       "      <td>1.000000</td>\n",
       "    </tr>\n",
       "    <tr>\n",
       "      <th>25%</th>\n",
       "      <td>59.750000</td>\n",
       "      <td>43.750000</td>\n",
       "      <td>67.000000</td>\n",
       "      <td>48.750000</td>\n",
       "      <td>44.500000</td>\n",
       "      <td>82.750000</td>\n",
       "      <td>84.500000</td>\n",
       "      <td>53.750000</td>\n",
       "      <td>36.750000</td>\n",
       "      <td>64.750000</td>\n",
       "      <td>64.000000</td>\n",
       "      <td>65.750000</td>\n",
       "      <td>43.750000</td>\n",
       "      <td>57.500000</td>\n",
       "      <td>69.750000</td>\n",
       "      <td>61.000000</td>\n",
       "      <td>4.000000</td>\n",
       "    </tr>\n",
       "    <tr>\n",
       "      <th>50%</th>\n",
       "      <td>69.000000</td>\n",
       "      <td>53.000000</td>\n",
       "      <td>71.000000</td>\n",
       "      <td>57.500000</td>\n",
       "      <td>50.500000</td>\n",
       "      <td>87.000000</td>\n",
       "      <td>100.000000</td>\n",
       "      <td>59.500000</td>\n",
       "      <td>46.500000</td>\n",
       "      <td>67.500000</td>\n",
       "      <td>76.000000</td>\n",
       "      <td>76.500000</td>\n",
       "      <td>58.000000</td>\n",
       "      <td>64.000000</td>\n",
       "      <td>73.000000</td>\n",
       "      <td>67.000000</td>\n",
       "      <td>10.000000</td>\n",
       "    </tr>\n",
       "    <tr>\n",
       "      <th>75%</th>\n",
       "      <td>79.250000</td>\n",
       "      <td>66.750000</td>\n",
       "      <td>77.250000</td>\n",
       "      <td>64.000000</td>\n",
       "      <td>58.000000</td>\n",
       "      <td>90.250000</td>\n",
       "      <td>100.000000</td>\n",
       "      <td>65.250000</td>\n",
       "      <td>60.250000</td>\n",
       "      <td>72.500000</td>\n",
       "      <td>81.000000</td>\n",
       "      <td>82.000000</td>\n",
       "      <td>63.500000</td>\n",
       "      <td>72.250000</td>\n",
       "      <td>77.500000</td>\n",
       "      <td>70.250000</td>\n",
       "      <td>19.000000</td>\n",
       "    </tr>\n",
       "    <tr>\n",
       "      <th>max</th>\n",
       "      <td>86.000000</td>\n",
       "      <td>97.000000</td>\n",
       "      <td>90.000000</td>\n",
       "      <td>80.000000</td>\n",
       "      <td>68.000000</td>\n",
       "      <td>100.000000</td>\n",
       "      <td>100.000000</td>\n",
       "      <td>78.000000</td>\n",
       "      <td>72.000000</td>\n",
       "      <td>100.000000</td>\n",
       "      <td>98.000000</td>\n",
       "      <td>99.000000</td>\n",
       "      <td>77.000000</td>\n",
       "      <td>93.000000</td>\n",
       "      <td>86.000000</td>\n",
       "      <td>79.000000</td>\n",
       "      <td>28.000000</td>\n",
       "    </tr>\n",
       "  </tbody>\n",
       "</table>\n",
       "</div>"
      ],
      "text/plain": [
       "           SDG 1      SDG 2      SDG 3      SDG 4      SDG 5       SDG 6  \\\n",
       "count  36.000000  36.000000  36.000000  36.000000  36.000000   36.000000   \n",
       "mean   66.500000  55.472222  71.805556  57.111111  50.111111   84.555556   \n",
       "std    14.456832  16.538243   7.645052  12.101423   9.662232   10.656841   \n",
       "min    32.000000  19.000000  59.000000  29.000000  25.000000   54.000000   \n",
       "25%    59.750000  43.750000  67.000000  48.750000  44.500000   82.750000   \n",
       "50%    69.000000  53.000000  71.000000  57.500000  50.500000   87.000000   \n",
       "75%    79.250000  66.750000  77.250000  64.000000  58.000000   90.250000   \n",
       "max    86.000000  97.000000  90.000000  80.000000  68.000000  100.000000   \n",
       "\n",
       "            SDG 7      SDG 8      SDG 9      SDG 10     SDG 11     SDG 12  \\\n",
       "count   36.000000  36.000000  36.000000   36.000000  36.000000  36.000000   \n",
       "mean    92.333333  59.833333  48.138889   67.527778  72.222222  74.333333   \n",
       "std     12.125534   9.060117  14.552668   11.596763  14.178678  12.897397   \n",
       "min     50.000000  36.000000  23.000000   41.000000  39.000000  47.000000   \n",
       "25%     84.500000  53.750000  36.750000   64.750000  64.000000  65.750000   \n",
       "50%    100.000000  59.500000  46.500000   67.500000  76.000000  76.500000   \n",
       "75%    100.000000  65.250000  60.250000   72.500000  81.000000  82.000000   \n",
       "max    100.000000  78.000000  72.000000  100.000000  98.000000  99.000000   \n",
       "\n",
       "          SDG 13     SDG 15     SDG 16  Composite Score       Rank  \n",
       "count  36.000000  36.000000  36.000000        36.000000  36.000000  \n",
       "mean   53.277778  64.527778  72.583333        66.055556  11.638889  \n",
       "std    15.331780  13.635010   7.969137         5.980657   8.394395  \n",
       "min    16.000000  27.000000  46.000000        52.000000   1.000000  \n",
       "25%    43.750000  57.500000  69.750000        61.000000   4.000000  \n",
       "50%    58.000000  64.000000  73.000000        67.000000  10.000000  \n",
       "75%    63.500000  72.250000  77.500000        70.250000  19.000000  \n",
       "max    77.000000  93.000000  86.000000        79.000000  28.000000  "
      ]
     },
     "execution_count": 54,
     "metadata": {},
     "output_type": "execute_result"
    }
   ],
   "source": [
    "data.describe()"
   ]
  },
  {
   "cell_type": "code",
   "execution_count": null,
   "id": "801f0c1d",
   "metadata": {},
   "outputs": [],
   "source": []
  }
 ],
 "metadata": {
  "kernelspec": {
   "display_name": "Python 3 (ipykernel)",
   "language": "python",
   "name": "python3"
  },
  "language_info": {
   "codemirror_mode": {
    "name": "ipython",
    "version": 3
   },
   "file_extension": ".py",
   "mimetype": "text/x-python",
   "name": "python",
   "nbconvert_exporter": "python",
   "pygments_lexer": "ipython3",
   "version": "3.9.6"
  }
 },
 "nbformat": 4,
 "nbformat_minor": 5
}
